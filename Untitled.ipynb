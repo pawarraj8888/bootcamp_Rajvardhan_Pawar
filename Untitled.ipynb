{
 "cells": [
  {
   "cell_type": "code",
   "execution_count": 1,
   "id": "bc3af850-b27f-412c-baed-a17c17b0966c",
   "metadata": {},
   "outputs": [],
   "source": [
    "with open(\".gitignore\", \"w\") as f:\n",
    "    f.write(\"__pycache__/\\n*.ipynb_checkpoints/\\n\")\n"
   ]
  },
  {
   "cell_type": "code",
   "execution_count": 2,
   "id": "18eac567-6f4b-4ca4-9c3d-3e6416f163fb",
   "metadata": {},
   "outputs": [],
   "source": [
    "!mv untitled1.txt .gitignore\n"
   ]
  },
  {
   "cell_type": "code",
   "execution_count": 3,
   "id": "56f6fb92-333f-4763-808f-e54bcabec393",
   "metadata": {},
   "outputs": [],
   "source": [
    "!touch .gitignore\n"
   ]
  },
  {
   "cell_type": "code",
   "execution_count": 4,
   "id": "cbfc0c8f-a3d7-4510-9b0f-b3f341b114d3",
   "metadata": {},
   "outputs": [],
   "source": [
    "with open(\".gitignore\", \"w\") as f:\n",
    "    f.write(\"__pycache__/\\n*.ipynb_checkpoints/\\n\")\n"
   ]
  },
  {
   "cell_type": "code",
   "execution_count": 5,
   "id": "93d671f1-4976-4c77-b967-0066610b1f7b",
   "metadata": {},
   "outputs": [],
   "source": [
    "!mv gitignore .gitignore\n"
   ]
  },
  {
   "cell_type": "code",
   "execution_count": 6,
   "id": "5094ee4b-6317-493b-8eef-d4f45a11d3e7",
   "metadata": {},
   "outputs": [
    {
     "name": "stdout",
     "output_type": "stream",
     "text": [
      "\u001b[34m.\u001b[m\u001b[m                  \u001b[34m.git\u001b[m\u001b[m               \u001b[34mclass_materials\u001b[m\u001b[m    README.md\n",
      "\u001b[34m..\u001b[m\u001b[m                 .gitignore         \u001b[34mhomework\u001b[m\u001b[m           Untitled.ipynb\n",
      ".env.example       \u001b[34m.ipynb_checkpoints\u001b[m\u001b[m \u001b[34mproject\u001b[m\u001b[m\n"
     ]
    }
   ],
   "source": [
    "!ls -a\n"
   ]
  },
  {
   "cell_type": "code",
   "execution_count": 8,
   "id": "40105569-c6d0-4ea1-b36d-1c17156ab11f",
   "metadata": {},
   "outputs": [],
   "source": [
    "with open(\".env\", \"w\") as f:\n",
    "    f.write(\"ALPHAVANTAGE_API_KEY=N5UX6AR3NU3FRB6S\\n\")\n"
   ]
  },
  {
   "cell_type": "code",
   "execution_count": 9,
   "id": "ed9eb39a-2414-4a65-b217-483870bc37d1",
   "metadata": {},
   "outputs": [
    {
     "name": "stdout",
     "output_type": "stream",
     "text": [
      "\u001b[34m.\u001b[m\u001b[m                  .env.example       \u001b[34m.ipynb_checkpoints\u001b[m\u001b[m \u001b[34mproject\u001b[m\u001b[m\n",
      "\u001b[34m..\u001b[m\u001b[m                 \u001b[34m.git\u001b[m\u001b[m               \u001b[34mclass_materials\u001b[m\u001b[m    README.md\n",
      ".env               .gitignore         \u001b[34mhomework\u001b[m\u001b[m           Untitled.ipynb\n"
     ]
    }
   ],
   "source": [
    "!ls -a\n"
   ]
  },
  {
   "cell_type": "code",
   "execution_count": null,
   "id": "dff0e87e-3901-41db-a0e9-3f3638b72c9e",
   "metadata": {},
   "outputs": [],
   "source": []
  },
  {
   "cell_type": "code",
   "execution_count": 11,
   "id": "b2a9c4cc-7948-453a-8f76-adcbc7c57574",
   "metadata": {},
   "outputs": [
    {
     "name": "stdout",
     "output_type": "stream",
     "text": [
      "Created src/io_utils.py ✅\n"
     ]
    }
   ],
   "source": [
    "from pathlib import Path\n",
    "\n",
    "# Create src/ folder if missing\n",
    "Path(\"src\").mkdir(exist_ok=True)\n",
    "\n",
    "# Define the code\n",
    "io_utils_code = \"\"\"\\\n",
    "from __future__ import annotations\n",
    "from pathlib import Path\n",
    "import os\n",
    "import pandas as pd\n",
    "from dotenv import load_dotenv\n",
    "\n",
    "# -- Load .env once and expose dirs --\n",
    "load_dotenv()\n",
    "DATA_DIR_RAW = Path(os.getenv(\"DATA_DIR_RAW\", \"data/raw\"))\n",
    "DATA_DIR_PROCESSED = Path(os.getenv(\"DATA_DIR_PROCESSED\", \"data/processed\"))\n",
    "for d in (DATA_DIR_RAW, DATA_DIR_PROCESSED):\n",
    "    d.mkdir(parents=True, exist_ok=True)\n",
    "\n",
    "def _ensure_parquet_engine() -> str:\n",
    "    try:\n",
    "        import pyarrow  # noqa: F401\n",
    "        return \"pyarrow\"\n",
    "    except Exception:\n",
    "        try:\n",
    "            import fastparquet  # noqa: F401\n",
    "            return \"fastparquet\"\n",
    "        except Exception as e:\n",
    "            raise RuntimeError(\n",
    "                \"Parquet engine not available. Install 'pyarrow' or 'fastparquet'.\"\n",
    "            ) from e\n",
    "\n",
    "def _ensure_parent(path: Path | str) -> Path:\n",
    "    p = Path(path)\n",
    "    p.parent.mkdir(parents=True, exist_ok=True)\n",
    "    return p\n",
    "\n",
    "def write_df(df: pd.DataFrame, path: Path | str) -> Path:\n",
    "    p = _ensure_parent(path)\n",
    "    ext = p.suffix.lower()\n",
    "    if ext == \".csv\":\n",
    "        df.to_csv(p, index=False)\n",
    "    elif ext == \".parquet\":\n",
    "        _ensure_parquet_engine()\n",
    "        df.to_parquet(p, index=False)\n",
    "    else:\n",
    "        raise ValueError(f\"Unsupported extension: {ext}\")\n",
    "    return p\n",
    "\n",
    "def read_df(path: Path | str, schema: dict[str, str] | None = None, parse_dates: list[str] | None = None) -> pd.DataFrame:\n",
    "    p = Path(path)\n",
    "    ext = p.suffix.lower()\n",
    "    if ext == \".csv\":\n",
    "        if schema is None and parse_dates is None:\n",
    "            return pd.read_csv(p)\n",
    "        return pd.read_csv(p, dtype=schema, parse_dates=parse_dates)\n",
    "    elif ext == \".parquet\":\n",
    "        _ensure_parquet_engine()\n",
    "        return pd.read_parquet(p)\n",
    "    else:\n",
    "        raise ValueError(f\"Unsupported extension: {ext}\")\n",
    "\"\"\"\n",
    "\n",
    "# Write to src/io_utils.py\n",
    "with open(\"src/io_utils.py\", \"w\") as f:\n",
    "    f.write(io_utils_code)\n",
    "\n",
    "print(\"Created src/io_utils.py ✅\")\n"
   ]
  },
  {
   "cell_type": "code",
   "execution_count": null,
   "id": "df1d43fa-e3db-469c-b1e0-bce75b0fbd88",
   "metadata": {},
   "outputs": [],
   "source": []
  }
 ],
 "metadata": {
  "kernelspec": {
   "display_name": "Python (fe-course)",
   "language": "python",
   "name": "fe-course"
  },
  "language_info": {
   "codemirror_mode": {
    "name": "ipython",
    "version": 3
   },
   "file_extension": ".py",
   "mimetype": "text/x-python",
   "name": "python",
   "nbconvert_exporter": "python",
   "pygments_lexer": "ipython3",
   "version": "3.11.13"
  }
 },
 "nbformat": 4,
 "nbformat_minor": 5
}
