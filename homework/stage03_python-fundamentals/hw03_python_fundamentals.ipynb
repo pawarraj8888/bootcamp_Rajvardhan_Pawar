{
 "cells": [
  {
   "cell_type": "markdown",
   "id": "df751d4c",
   "metadata": {},
   "source": [
    "# HW03 — Python Fundamentals\n",
    "_Use NumPy, load a CSV with pandas, compute summary stats, and save outputs._"
   ]
  },
  {
   "cell_type": "markdown",
   "id": "a8faa9b9-7497-4dd6-941d-2977eecbf272",
   "metadata": {},
   "source": [
    "# 1. NumPy Operations\n"
   ]
  },
  {
   "cell_type": "code",
   "execution_count": 3,
   "id": "16257545",
   "metadata": {},
   "outputs": [
    {
     "name": "stdout",
     "output_type": "stream",
     "text": [
      "Loop time: 0.6815 seconds\n",
      "Vectorized time: 0.0364 seconds\n",
      "Speedup: 18.7x faster with NumPy\n"
     ]
    }
   ],
   "source": [
    "import numpy as np\n",
    "import time\n",
    "\n",
    "\n",
    "arr = np.arange(10_000_000)\n",
    "arr_list = list(arr)\n",
    "\n",
    "# Loop method\n",
    "start = time.time()\n",
    "result_loop = [x ** 2 for x in arr_list]\n",
    "end = time.time()\n",
    "loop_time = end - start\n",
    "\n",
    "# Vectorized method\n",
    "start = time.time()\n",
    "result_vectorized = arr ** 2\n",
    "end = time.time()\n",
    "vectorized_time = end - start\n",
    "\n",
    "print(f\"Loop time: {loop_time:.4f} seconds\")\n",
    "print(f\"Vectorized time: {vectorized_time:.4f} seconds\")\n",
    "print(f\"Speedup: {loop_time/vectorized_time:.1f}x faster with NumPy\")\n"
   ]
  },
  {
   "cell_type": "markdown",
   "id": "a333bbca-f238-4fe6-bdd9-4f862a521ed3",
   "metadata": {},
   "source": [
    "# 2. Data Loading & Inspection\n"
   ]
  },
  {
   "cell_type": "markdown",
   "id": "58f279fd",
   "metadata": {},
   "source": [
    "## Load Dataset\n"
   ]
  },
  {
   "cell_type": "code",
   "execution_count": 3,
   "id": "185dd41a",
   "metadata": {},
   "outputs": [],
   "source": [
    "import pandas as pd\n",
    "\n",
    "# Loading the CSV file # \"..\" because it is outside of the current location\n",
    "df = pd.read_csv(\"../data/starter_data.csv\")\n",
    "\n"
   ]
  },
  {
   "cell_type": "markdown",
   "id": "bfcd18de-6806-4920-b255-e4d56a65d39e",
   "metadata": {},
   "source": [
    "## Inspect Data\n"
   ]
  },
  {
   "cell_type": "code",
   "execution_count": 4,
   "id": "5ead6ce7",
   "metadata": {},
   "outputs": [
    {
     "name": "stdout",
     "output_type": "stream",
     "text": [
      "Dataset Info:\n",
      "<class 'pandas.core.frame.DataFrame'>\n",
      "RangeIndex: 6 entries, 0 to 5\n",
      "Data columns (total 2 columns):\n",
      " #   Column    Non-Null Count  Dtype \n",
      "---  ------    --------------  ----- \n",
      " 0   category  6 non-null      object\n",
      " 1   value     6 non-null      int64 \n",
      "dtypes: int64(1), object(1)\n",
      "memory usage: 228.0+ bytes\n",
      "None\n",
      "\n",
      "First 5 Rows:\n",
      "  category  value\n",
      "0        A     10\n",
      "1        A     12\n",
      "2        B     20\n",
      "3        B     22\n",
      "4        C     30\n"
     ]
    }
   ],
   "source": [
    "print(\"Dataset Info:\")\n",
    "print(df.info())\n",
    "\n",
    "print(\"\\nFirst 5 Rows:\")\n",
    "print(df.head())"
   ]
  },
  {
   "cell_type": "markdown",
   "id": "8cace758",
   "metadata": {},
   "source": [
    "# 3. Summary Statistics\n"
   ]
  },
  {
   "cell_type": "code",
   "execution_count": 5,
   "id": "b1db7c1f",
   "metadata": {},
   "outputs": [
    {
     "name": "stdout",
     "output_type": "stream",
     "text": [
      "Summary Statistics:\n",
      "           value\n",
      "count   6.000000\n",
      "mean   20.333333\n",
      "std     8.140434\n",
      "min    10.000000\n",
      "25%    14.000000\n",
      "50%    21.000000\n",
      "75%    26.500000\n",
      "max    30.000000\n"
     ]
    }
   ],
   "source": [
    "print(\"Summary Statistics:\")\n",
    "print(df.describe())"
   ]
  },
  {
   "cell_type": "markdown",
   "id": "7b00911e",
   "metadata": {},
   "source": [
    "## GroupBy Aggregation\n"
   ]
  },
  {
   "cell_type": "code",
   "execution_count": 7,
   "id": "904551d3-eae1-4d29-8d92-402e132668d3",
   "metadata": {},
   "outputs": [
    {
     "name": "stdout",
     "output_type": "stream",
     "text": [
      "Index(['category', 'value'], dtype='object')\n"
     ]
    }
   ],
   "source": [
    "print(df.columns)"
   ]
  },
  {
   "cell_type": "code",
   "execution_count": 8,
   "id": "c7149724",
   "metadata": {},
   "outputs": [
    {
     "name": "stdout",
     "output_type": "stream",
     "text": [
      "\n",
      "GroupBy Aggregation (mean values):\n",
      "          value\n",
      "category       \n",
      "A          11.0\n",
      "B          21.0\n",
      "C          29.0\n",
      "\n",
      "GroupBy Aggregation (mean & sum):\n",
      "          mean  sum\n",
      "category           \n",
      "A         11.0   22\n",
      "B         21.0   42\n",
      "C         29.0   58\n"
     ]
    }
   ],
   "source": [
    "# Example: group by a categorical column and calculate mean\n",
    "print(\"\\nGroupBy Aggregation (mean values):\")\n",
    "print(df.groupby(\"category\").mean(numeric_only=True))\n",
    "\n",
    "# You can also calculate multiple metrics\n",
    "print(\"\\nGroupBy Aggregation (mean & sum):\")\n",
    "print(df.groupby(\"category\")[\"value\"].agg([\"mean\", \"sum\"]))\n"
   ]
  },
  {
   "cell_type": "markdown",
   "id": "f2f38012",
   "metadata": {},
   "source": [
    "# 4. Save outputs\n"
   ]
  },
  {
   "cell_type": "code",
   "execution_count": 9,
   "id": "faa323af",
   "metadata": {},
   "outputs": [],
   "source": [
    "# Summary statistics\n",
    "summary = df.describe()\n",
    "\n",
    "# Saving as CSV\n",
    "summary.to_csv(\"../data/processed/summary.csv\")\n",
    "\n",
    "\n"
   ]
  },
  {
   "cell_type": "code",
   "execution_count": 12,
   "id": "7fec26c9-a16a-427c-9253-2b73b27beeed",
   "metadata": {},
   "outputs": [],
   "source": [
    "\n",
    "grouped = df.groupby(\"category\")[\"value\"].agg([\"mean\", \"sum\"])\n"
   ]
  },
  {
   "cell_type": "code",
   "execution_count": 13,
   "id": "e5e2b0e4-e19c-4b29-8721-ec40136cf100",
   "metadata": {},
   "outputs": [
    {
     "data": {
      "image/png": "[encoded data removed]",
      "text/plain": [
       "<Figure size 800x500 with 1 Axes>"
      ]
     },
     "metadata": {},
     "output_type": "display_data"
    }
   ],
   "source": [
    "import matplotlib.pyplot as plt\n",
    "\n",
    "# Example plot: mean value per category\n",
    "grouped[\"mean\"].plot(kind=\"bar\", figsize=(8,5), title=\"Mean Value per Category\")\n",
    "\n",
    "# Save plot\n",
    "plt.ylabel(\"Mean Value\")\n",
    "plt.xlabel(\"Category\")\n",
    "plt.tight_layout()\n",
    "plt.savefig(\"data/processed/summary_plot.png\")\n",
    "plt.show()\n"
   ]
  },
  {
   "cell_type": "markdown",
   "id": "7f41172f",
   "metadata": {},
   "source": [
    "## Importing from utils module \n"
   ]
  },
  {
   "cell_type": "code",
   "execution_count": 3,
   "id": "b15d1c59",
   "metadata": {},
   "outputs": [],
   "source": [
    "import sys\n",
    "sys.path.append(\"../../project\") \n",
    "\n",
    "from src import utils\n",
    "\n",
    "from src.utils import get_summary_stats"
   ]
  },
  {
   "cell_type": "code",
   "execution_count": null,
   "id": "b70b86fe-e7d2-4b8e-9365-b33484388264",
   "metadata": {},
   "outputs": [],
   "source": []
  },
  {
   "cell_type": "code",
   "execution_count": null,
   "id": "a1051024-1515-474f-a93a-83d453fa30bb",
   "metadata": {},
   "outputs": [],
   "source": []
  },
  {
   "cell_type": "code",
   "execution_count": null,
   "id": "1f4de8e6-a6d0-4ba5-b8a2-0c5c15943221",
   "metadata": {},
   "outputs": [],
   "source": []
  }
 ],
 "metadata": {
  "kernelspec": {
   "display_name": "Python (fe-course)",
   "language": "python",
   "name": "fe-course"
  },
  "language_info": {
   "codemirror_mode": {
    "name": "ipython",
    "version": 3
   },
   "file_extension": ".py",
   "mimetype": "text/x-python",
   "name": "python",
   "nbconvert_exporter": "python",
   "pygments_lexer": "ipython3",
   "version": "3.11.13"
  }
 },
 "nbformat": 4,
 "nbformat_minor": 5
}
