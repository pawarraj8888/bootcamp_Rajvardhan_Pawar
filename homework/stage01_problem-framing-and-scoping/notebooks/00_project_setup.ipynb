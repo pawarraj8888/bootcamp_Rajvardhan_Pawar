{
 "cells": [
  {
   "cell_type": "markdown",
   "id": "7b64c4ad",
   "metadata": {},
   "source": [
    "# Environment & Config Check"
   ]
  },
  {
   "cell_type": "code",
   "execution_count": 1,
   "id": "fcdc1476",
   "metadata": {},
   "outputs": [
    {
     "name": "stdout",
     "output_type": "stream",
     "text": [
      "API_KEY present: True\n",
      "Array squared: [1, 4, 9]\n"
     ]
    }
   ],
   "source": [
    "# make repo root importable so \"from src.config ...\" works\n",
    "import sys, pathlib\n",
    "sys.path.insert(0, str(pathlib.Path.cwd().parent))\n",
    "\n",
    "\n",
    "from src.config import load_env, get\n",
    "load_env()\n",
    "print('API_KEY present:', get('API_KEY') is not None)\n",
    "import numpy as np\n",
    "print('Array squared:', (np.array([1,2,3])**2).tolist())"
   ]
  },
  {
   "cell_type": "code",
   "execution_count": null,
   "id": "a82c9674",
   "metadata": {},
   "outputs": [],
   "source": []
  },
  {
   "cell_type": "code",
   "execution_count": null,
   "id": "a5fba249-6f9a-46c5-b9f3-a1c302da7ed3",
   "metadata": {},
   "outputs": [],
   "source": []
  }
 ],
 "metadata": {
  "kernelspec": {
   "display_name": "Python (fe-course)",
   "language": "python",
   "name": "fe-course"
  },
  "language_info": {
   "codemirror_mode": {
    "name": "ipython",
    "version": 3
   },
   "file_extension": ".py",
   "mimetype": "text/x-python",
   "name": "python",
   "nbconvert_exporter": "python",
   "pygments_lexer": "ipython3",
   "version": "3.11.13"
  }
 },
 "nbformat": 4,
 "nbformat_minor": 5
}
