{
 "cells": [
  {
   "cell_type": "markdown",
   "id": "df751d4c",
   "metadata": {},
   "source": [
    "# HW03 — Python Fundamentals\n",
    "_Use NumPy, load a CSV with pandas, compute summary stats, and save outputs._"
   ]
  },
  {
   "cell_type": "code",
   "execution_count": 1,
   "id": "90c245cc",
   "metadata": {},
   "outputs": [
    {
     "name": "stdout",
     "output_type": "stream",
     "text": [
      "Repo root on sys.path: /Users/rajpawar/code/bootcamp_Rajvardhan_Pawar/homework/stage01_problem-framing-and-scoping\n"
     ]
    }
   ],
   "source": [
    "# make repo root importable so `from src...` works when notebook runs from /notebooks\n",
    "import sys, pathlib\n",
    "sys.path.insert(0, str(pathlib.Path.cwd().parent))\n",
    "print('Repo root on sys.path:', sys.path[0])"
   ]
  },
  {
   "cell_type": "markdown",
   "id": "a8faa9b9-7497-4dd6-941d-2977eecbf272",
   "metadata": {},
   "source": [
    "# 1. NumPy Operations\n"
   ]
  },
  {
   "cell_type": "code",
   "execution_count": 3,
   "id": "16257545",
   "metadata": {},
   "outputs": [
    {
     "name": "stdout",
     "output_type": "stream",
     "text": [
      "Loop time: 0.6815 seconds\n",
      "Vectorized time: 0.0364 seconds\n",
      "Speedup: 18.7x faster with NumPy\n"
     ]
    }
   ],
   "source": [
    "import numpy as np\n",
    "import time\n",
    "\n",
    "\n",
    "arr = np.arange(10_000_000)\n",
    "arr_list = list(arr)\n",
    "\n",
    "# Loop method\n",
    "start = time.time()\n",
    "result_loop = [x ** 2 for x in arr_list]\n",
    "end = time.time()\n",
    "loop_time = end - start\n",
    "\n",
    "# Vectorized method\n",
    "start = time.time()\n",
    "result_vectorized = arr ** 2\n",
    "end = time.time()\n",
    "vectorized_time = end - start\n",
    "\n",
    "print(f\"Loop time: {loop_time:.4f} seconds\")\n",
    "print(f\"Vectorized time: {vectorized_time:.4f} seconds\")\n",
    "print(f\"Speedup: {loop_time/vectorized_time:.1f}x faster with NumPy\")\n"
   ]
  },
  {
   "cell_type": "markdown",
   "id": "a333bbca-f238-4fe6-bdd9-4f862a521ed3",
   "metadata": {},
   "source": [
    "# 2. Data Loading & Inspection\n"
   ]
  },
  {
   "cell_type": "markdown",
   "id": "58f279fd",
   "metadata": {},
   "source": [
    "## Load Dataset\n"
   ]
  },
  {
   "cell_type": "code",
   "execution_count": null,
   "id": "185dd41a",
   "metadata": {},
   "outputs": [],
   "source": [
    "from pathlib import Path\n",
    "import pandas as pd\n",
    "\n",
    "ROOT = Path.cwd().parent          # repo root\n",
    "DATA_PATH = ROOT / \"data\" / \"starter_data.csv\"\n",
    "\n",
    "assert DATA_PATH.exists(), f\"Missing {DATA_PATH}\"\n",
    "df = pd.read_csv(DATA_PATH)\n",
    "df.head()\n"
   ]
  },
  {
   "cell_type": "markdown",
   "id": "bfcd18de-6806-4920-b255-e4d56a65d39e",
   "metadata": {},
   "source": [
    "## Inspect Data\n"
   ]
  },
  {
   "cell_type": "code",
   "execution_count": null,
   "id": "5ead6ce7",
   "metadata": {},
   "outputs": [],
   "source": [
    "df.info()"
   ]
  },
  {
   "cell_type": "markdown",
   "id": "8cace758",
   "metadata": {},
   "source": [
    "# 3. Summary Statistics\n"
   ]
  },
  {
   "cell_type": "code",
   "execution_count": null,
   "id": "b1db7c1f",
   "metadata": {},
   "outputs": [],
   "source": [
    "from src.utils import get_summary_stats, save_summary\n",
    "os.makedirs('data/processed', exist_ok=True)\n",
    "summary = get_summary_stats(df)\n",
    "save_summary(summary, 'data/processed/summary.csv')\n",
    "summary.head()"
   ]
  },
  {
   "cell_type": "markdown",
   "id": "7b00911e",
   "metadata": {},
   "source": [
    "# 4. GroupBy Aggregation\n"
   ]
  },
  {
   "cell_type": "code",
   "execution_count": null,
   "id": "c7149724",
   "metadata": {},
   "outputs": [],
   "source": [
    "num_cols = [c for c in df.columns if pd.api.types.is_numeric_dtype(df[c])]\n",
    "cat_cols = [c for c in df.columns if pd.api.types.is_object_dtype(df[c])]\n",
    "if cat_cols and num_cols:\n",
    "    display(df.groupby(cat_cols[0])[num_cols[0]].mean())\n",
    "else:\n",
    "    print('No obvious categorical/numeric pair for groupby; skipping demo.')"
   ]
  },
  {
   "cell_type": "markdown",
   "id": "f2f38012",
   "metadata": {},
   "source": [
    "## Save a histogram of the first numeric column (if any)"
   ]
  },
  {
   "cell_type": "code",
   "execution_count": null,
   "id": "faa323af",
   "metadata": {},
   "outputs": [],
   "source": [
    "if num_cols:\n",
    "    col = num_cols[0]\n",
    "    ax = df[col].dropna().plot(kind='hist', bins=30)\n",
    "    fig = ax.get_figure()\n",
    "    out = f'data/processed/hist_{col}.png'\n",
    "    fig.savefig(out, bbox_inches='tight')\n",
    "    plt.close(fig)\n",
    "    print('Saved histogram to', out)\n",
    "else:\n",
    "    print('No numeric column to plot.')"
   ]
  },
  {
   "cell_type": "markdown",
   "id": "8d7d2fd9",
   "metadata": {},
   "source": [
    "## NumPy vectorization speed demo"
   ]
  },
  {
   "cell_type": "code",
   "execution_count": null,
   "id": "73cda231",
   "metadata": {},
   "outputs": [],
   "source": [
    "import time\n",
    "n = 5_000_000\n",
    "arr = np.arange(n, dtype=np.float64)\n",
    "t0 = time.time(); out_vec = arr * 2.0 + 1.0; t1 = time.time()\n",
    "lst = list(range(n))\n",
    "s0 = time.time(); out_loop = [x*2.0 + 1.0 for x in lst]; s1 = time.time()\n",
    "print(f'Vectorized: {(t1-t0):.3f}s  |  Loop: {(s1-s0):.3f}s  |  speedup ~{(s1-t0)/(t1-t0) if (t1-t0)>0 else float(\"inf\"):.1f}x')"
   ]
  },
  {
   "cell_type": "markdown",
   "id": "7f41172f",
   "metadata": {},
   "source": [
    "## Done"
   ]
  },
  {
   "cell_type": "code",
   "execution_count": null,
   "id": "b15d1c59",
   "metadata": {},
   "outputs": [],
   "source": [
    "import os\n",
    "print('Wrote: data/processed/summary.csv →', os.path.exists('data/processed/summary.csv'))"
   ]
  },
  {
   "cell_type": "code",
   "execution_count": null,
   "id": "b70b86fe-e7d2-4b8e-9365-b33484388264",
   "metadata": {},
   "outputs": [],
   "source": []
  },
  {
   "cell_type": "code",
   "execution_count": null,
   "id": "a1051024-1515-474f-a93a-83d453fa30bb",
   "metadata": {},
   "outputs": [],
   "source": []
  },
  {
   "cell_type": "code",
   "execution_count": null,
   "id": "1f4de8e6-a6d0-4ba5-b8a2-0c5c15943221",
   "metadata": {},
   "outputs": [],
   "source": []
  }
 ],
 "metadata": {
  "kernelspec": {
   "display_name": "Python (fe-course)",
   "language": "python",
   "name": "fe-course"
  },
  "language_info": {
   "codemirror_mode": {
    "name": "ipython",
    "version": 3
   },
   "file_extension": ".py",
   "mimetype": "text/x-python",
   "name": "python",
   "nbconvert_exporter": "python",
   "pygments_lexer": "ipython3",
   "version": "3.11.13"
  }
 },
 "nbformat": 4,
 "nbformat_minor": 5
}
