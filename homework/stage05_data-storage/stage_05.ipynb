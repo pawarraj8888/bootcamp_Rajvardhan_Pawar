{
 "cells": [
  {
   "cell_type": "code",
   "execution_count": 1,
   "id": "06ff9fd3-45f0-475f-b90b-7a031e303887",
   "metadata": {},
   "outputs": [],
   "source": [
    "import os\n",
    "import pandas as pd\n",
    "from dotenv import load_dotenv\n",
    "\n",
    "# Load environment variables\n",
    "load_dotenv()\n",
    "\n",
    "DATA_DIR_RAW = os.getenv(\"DATA_DIR_RAW\")\n",
    "DATA_DIR_PROCESSED = os.getenv(\"DATA_DIR_PROCESSED\")\n"
   ]
  },
  {
   "cell_type": "code",
   "execution_count": 2,
   "id": "3925808f-ce27-4700-9a61-fea3dd9d8df2",
   "metadata": {},
   "outputs": [
    {
     "data": {
      "text/plain": [
       "(PosixPath('data/raw'), PosixPath('data/processed'))"
      ]
     },
     "execution_count": 2,
     "metadata": {},
     "output_type": "execute_result"
    }
   ],
   "source": [
    "from pathlib import Path\n",
    "from datetime import datetime\n",
    "import os\n",
    "import pandas as pd\n",
    "from dotenv import load_dotenv\n",
    "\n",
    "# Load .env once\n",
    "load_dotenv()\n",
    "\n",
    "DATA_DIR_RAW = Path(os.getenv(\"DATA_DIR_RAW\", \"data/raw\"))\n",
    "DATA_DIR_PROCESSED = Path(os.getenv(\"DATA_DIR_PROCESSED\", \"data/processed\"))\n",
    "\n",
    "# Make sure directories exist\n",
    "DATA_DIR_RAW.mkdir(parents=True, exist_ok=True)\n",
    "DATA_DIR_PROCESSED.mkdir(parents=True, exist_ok=True)\n",
    "\n",
    "DATA_DIR_RAW, DATA_DIR_PROCESSED\n"
   ]
  },
  {
   "cell_type": "code",
   "execution_count": 3,
   "id": "d45f8071-eba2-4ec8-954d-b262635b1f06",
   "metadata": {},
   "outputs": [
    {
     "data": {
      "text/html": [
       "<div>\n",
       "<style scoped>\n",
       "    .dataframe tbody tr th:only-of-type {\n",
       "        vertical-align: middle;\n",
       "    }\n",
       "\n",
       "    .dataframe tbody tr th {\n",
       "        vertical-align: top;\n",
       "    }\n",
       "\n",
       "    .dataframe thead th {\n",
       "        text-align: right;\n",
       "    }\n",
       "</style>\n",
       "<table border=\"1\" class=\"dataframe\">\n",
       "  <thead>\n",
       "    <tr style=\"text-align: right;\">\n",
       "      <th></th>\n",
       "      <th>date</th>\n",
       "      <th>value</th>\n",
       "    </tr>\n",
       "  </thead>\n",
       "  <tbody>\n",
       "    <tr>\n",
       "      <th>0</th>\n",
       "      <td>2025-01-01</td>\n",
       "      <td>10</td>\n",
       "    </tr>\n",
       "    <tr>\n",
       "      <th>1</th>\n",
       "      <td>2025-01-02</td>\n",
       "      <td>20</td>\n",
       "    </tr>\n",
       "    <tr>\n",
       "      <th>2</th>\n",
       "      <td>2025-01-03</td>\n",
       "      <td>30</td>\n",
       "    </tr>\n",
       "    <tr>\n",
       "      <th>3</th>\n",
       "      <td>2025-01-04</td>\n",
       "      <td>40</td>\n",
       "    </tr>\n",
       "    <tr>\n",
       "      <th>4</th>\n",
       "      <td>2025-01-05</td>\n",
       "      <td>50</td>\n",
       "    </tr>\n",
       "  </tbody>\n",
       "</table>\n",
       "</div>"
      ],
      "text/plain": [
       "        date  value\n",
       "0 2025-01-01     10\n",
       "1 2025-01-02     20\n",
       "2 2025-01-03     30\n",
       "3 2025-01-04     40\n",
       "4 2025-01-05     50"
      ]
     },
     "execution_count": 3,
     "metadata": {},
     "output_type": "execute_result"
    }
   ],
   "source": [
    "\n",
    "import pandas as pd\n",
    "\n",
    "# Example DataFrame (replace with real one if you have it)\n",
    "df = pd.DataFrame({\n",
    "    \"date\": pd.date_range(\"2025-01-01\", periods=5, freq=\"D\"),\n",
    "    \"value\": [10, 20, 30, 40, 50]\n",
    "})\n",
    "\n",
    "df\n"
   ]
  },
  {
   "cell_type": "code",
   "execution_count": 4,
   "id": "9f0fb41c-3944-4d74-b2dd-ddf2662a39c2",
   "metadata": {},
   "outputs": [
    {
     "name": "stdout",
     "output_type": "stream",
     "text": [
      "CSV saved to: data/raw/sample_20250824_013014.csv\n",
      "Parquet saved to: data/processed/sample_20250824_013014.parquet\n"
     ]
    }
   ],
   "source": [
    "from datetime import datetime\n",
    "\n",
    "# Timestamp so files don’t overwrite\n",
    "ts = datetime.now().strftime(\"%Y%m%d_%H%M%S\")\n",
    "\n",
    "csv_path = DATA_DIR_RAW / f\"sample_{ts}.csv\"\n",
    "pq_path  = DATA_DIR_PROCESSED / f\"sample_{ts}.parquet\"\n",
    "\n",
    "# Save\n",
    "df.to_csv(csv_path, index=False)\n",
    "df.to_parquet(pq_path, index=False)\n",
    "\n",
    "print(\"CSV saved to:\", csv_path)\n",
    "print(\"Parquet saved to:\", pq_path)\n"
   ]
  },
  {
   "cell_type": "code",
   "execution_count": 5,
   "id": "76fa45dd-14c2-4bdf-bfd2-01607adc374c",
   "metadata": {},
   "outputs": [
    {
     "name": "stdout",
     "output_type": "stream",
     "text": [
      "CSV round-trip equal: False\n",
      "Parquet round-trip equal: True\n"
     ]
    },
    {
     "data": {
      "text/html": [
       "<div>\n",
       "<style scoped>\n",
       "    .dataframe tbody tr th:only-of-type {\n",
       "        vertical-align: middle;\n",
       "    }\n",
       "\n",
       "    .dataframe tbody tr th {\n",
       "        vertical-align: top;\n",
       "    }\n",
       "\n",
       "    .dataframe thead th {\n",
       "        text-align: right;\n",
       "    }\n",
       "</style>\n",
       "<table border=\"1\" class=\"dataframe\">\n",
       "  <thead>\n",
       "    <tr style=\"text-align: right;\">\n",
       "      <th></th>\n",
       "      <th>date</th>\n",
       "      <th>value</th>\n",
       "    </tr>\n",
       "  </thead>\n",
       "  <tbody>\n",
       "    <tr>\n",
       "      <th>0</th>\n",
       "      <td>2025-01-01</td>\n",
       "      <td>10</td>\n",
       "    </tr>\n",
       "    <tr>\n",
       "      <th>1</th>\n",
       "      <td>2025-01-02</td>\n",
       "      <td>20</td>\n",
       "    </tr>\n",
       "    <tr>\n",
       "      <th>2</th>\n",
       "      <td>2025-01-03</td>\n",
       "      <td>30</td>\n",
       "    </tr>\n",
       "    <tr>\n",
       "      <th>3</th>\n",
       "      <td>2025-01-04</td>\n",
       "      <td>40</td>\n",
       "    </tr>\n",
       "    <tr>\n",
       "      <th>4</th>\n",
       "      <td>2025-01-05</td>\n",
       "      <td>50</td>\n",
       "    </tr>\n",
       "  </tbody>\n",
       "</table>\n",
       "</div>"
      ],
      "text/plain": [
       "         date  value\n",
       "0  2025-01-01     10\n",
       "1  2025-01-02     20\n",
       "2  2025-01-03     30\n",
       "3  2025-01-04     40\n",
       "4  2025-01-05     50"
      ]
     },
     "execution_count": 5,
     "metadata": {},
     "output_type": "execute_result"
    }
   ],
   "source": [
    "df_csv = pd.read_csv(csv_path)\n",
    "df_pq = pd.read_parquet(pq_path)\n",
    "\n",
    "print(\"CSV round-trip equal:\", df.equals(df_csv))\n",
    "print(\"Parquet round-trip equal:\", df.equals(df_pq))\n",
    "\n",
    "df_csv.head()\n"
   ]
  },
  {
   "cell_type": "markdown",
   "id": "bfa28f2d-f9b9-4c6f-968b-cd89e416fea8",
   "metadata": {},
   "source": [
    "## Assumptions & Risks\n",
    "- `.env` defines `DATA_DIR_RAW` and `DATA_DIR_PROCESSED`.\n",
    "- CSV is easy to read/edit but can lose type info.\n",
    "- Parquet is more efficient and preserves dtypes but requires `pyarrow` or `fastparquet`.\n"
   ]
  },
  {
   "cell_type": "code",
   "execution_count": 6,
   "id": "38e5c021-0415-4308-9242-7b9a7d9192b3",
   "metadata": {},
   "outputs": [
    {
     "name": "stdout",
     "output_type": "stream",
     "text": [
      "CSV: {'same_shape': True, 'same_columns': True, 'dtypes_match': False, 'first_rows_equal': False}\n",
      "PQ : {'same_shape': True, 'same_columns': True, 'dtypes_match': True, 'first_rows_equal': True}\n"
     ]
    }
   ],
   "source": [
    "# Reload both\n",
    "df_csv = pd.read_csv(csv_path)\n",
    "df_pq = pd.read_parquet(pq_path)\n",
    "\n",
    "# Validation function\n",
    "def validate_roundtrip(original, reloaded):\n",
    "    return {\n",
    "        \"same_shape\": original.shape == reloaded.shape,\n",
    "        \"same_columns\": list(original.columns) == list(reloaded.columns),\n",
    "        \"dtypes_match\": dict(original.dtypes.astype(str)) == dict(reloaded.dtypes.astype(str)),\n",
    "        \"first_rows_equal\": original.head().equals(reloaded.head())\n",
    "    }\n",
    "\n",
    "print(\"CSV:\", validate_roundtrip(df, df_csv))\n",
    "print(\"PQ :\", validate_roundtrip(df, df_pq))\n"
   ]
  },
  {
   "cell_type": "code",
   "execution_count": 8,
   "id": "fa0c33cb-c408-4e8f-a70a-bd246f2c18a9",
   "metadata": {},
   "outputs": [],
   "source": [
    "from datetime import datetime\n",
    "import pandas as pd\n",
    "from src.io_utils import DATA_DIR_RAW, DATA_DIR_PROCESSED, write_df, read_df\n"
   ]
  },
  {
   "cell_type": "code",
   "execution_count": 9,
   "id": "2c4649a4-49a6-4a18-bfa3-efc4d8a40bde",
   "metadata": {},
   "outputs": [
    {
     "data": {
      "text/html": [
       "<div>\n",
       "<style scoped>\n",
       "    .dataframe tbody tr th:only-of-type {\n",
       "        vertical-align: middle;\n",
       "    }\n",
       "\n",
       "    .dataframe tbody tr th {\n",
       "        vertical-align: top;\n",
       "    }\n",
       "\n",
       "    .dataframe thead th {\n",
       "        text-align: right;\n",
       "    }\n",
       "</style>\n",
       "<table border=\"1\" class=\"dataframe\">\n",
       "  <thead>\n",
       "    <tr style=\"text-align: right;\">\n",
       "      <th></th>\n",
       "      <th>date</th>\n",
       "      <th>ticker</th>\n",
       "      <th>value</th>\n",
       "    </tr>\n",
       "  </thead>\n",
       "  <tbody>\n",
       "    <tr>\n",
       "      <th>0</th>\n",
       "      <td>2025-01-01</td>\n",
       "      <td>AAA</td>\n",
       "      <td>10</td>\n",
       "    </tr>\n",
       "    <tr>\n",
       "      <th>1</th>\n",
       "      <td>2025-01-02</td>\n",
       "      <td>AAA</td>\n",
       "      <td>20</td>\n",
       "    </tr>\n",
       "    <tr>\n",
       "      <th>2</th>\n",
       "      <td>2025-01-03</td>\n",
       "      <td>AAA</td>\n",
       "      <td>30</td>\n",
       "    </tr>\n",
       "    <tr>\n",
       "      <th>3</th>\n",
       "      <td>2025-01-04</td>\n",
       "      <td>BBB</td>\n",
       "      <td>40</td>\n",
       "    </tr>\n",
       "    <tr>\n",
       "      <th>4</th>\n",
       "      <td>2025-01-05</td>\n",
       "      <td>BBB</td>\n",
       "      <td>50</td>\n",
       "    </tr>\n",
       "  </tbody>\n",
       "</table>\n",
       "</div>"
      ],
      "text/plain": [
       "        date ticker  value\n",
       "0 2025-01-01    AAA     10\n",
       "1 2025-01-02    AAA     20\n",
       "2 2025-01-03    AAA     30\n",
       "3 2025-01-04    BBB     40\n",
       "4 2025-01-05    BBB     50"
      ]
     },
     "execution_count": 9,
     "metadata": {},
     "output_type": "execute_result"
    }
   ],
   "source": [
    "df = pd.DataFrame({\n",
    "    \"date\": pd.date_range(\"2025-01-01\", periods=5, freq=\"D\"),\n",
    "    \"ticker\": [\"AAA\"]*3 + [\"BBB\"]*2,\n",
    "    \"value\": [10, 20, 30, 40, 50]\n",
    "})\n",
    "df\n"
   ]
  },
  {
   "cell_type": "code",
   "execution_count": 10,
   "id": "63bc5d19-ab1f-45e4-855c-2edda4e47ddd",
   "metadata": {},
   "outputs": [
    {
     "name": "stdout",
     "output_type": "stream",
     "text": [
      "CSV saved to: data/raw/sample_20250824_013513.csv\n",
      "Parquet saved to: data/processed/sample_20250824_013513.parquet\n"
     ]
    }
   ],
   "source": [
    "ts = datetime.now().strftime(\"%Y%m%d_%H%M%S\")\n",
    "csv_path = DATA_DIR_RAW / f\"sample_{ts}.csv\"\n",
    "pq_path  = DATA_DIR_PROCESSED / f\"sample_{ts}.parquet\"\n",
    "\n",
    "write_df(df, csv_path)\n",
    "write_df(df, pq_path)\n",
    "\n",
    "print(\"CSV saved to:\", csv_path)\n",
    "print(\"Parquet saved to:\", pq_path)\n"
   ]
  },
  {
   "cell_type": "code",
   "execution_count": 11,
   "id": "2aba65a8-6989-4cc6-a3ec-b6935188e7a7",
   "metadata": {},
   "outputs": [
    {
     "name": "stdout",
     "output_type": "stream",
     "text": [
      "CSV check: {'same_shape': True, 'same_columns': True, 'dtypes_match': False, 'first_rows_equal': False}\n",
      "PQ  check: {'same_shape': True, 'same_columns': True, 'dtypes_match': True, 'first_rows_equal': True}\n"
     ]
    },
    {
     "data": {
      "text/html": [
       "<div>\n",
       "<style scoped>\n",
       "    .dataframe tbody tr th:only-of-type {\n",
       "        vertical-align: middle;\n",
       "    }\n",
       "\n",
       "    .dataframe tbody tr th {\n",
       "        vertical-align: top;\n",
       "    }\n",
       "\n",
       "    .dataframe thead th {\n",
       "        text-align: right;\n",
       "    }\n",
       "</style>\n",
       "<table border=\"1\" class=\"dataframe\">\n",
       "  <thead>\n",
       "    <tr style=\"text-align: right;\">\n",
       "      <th></th>\n",
       "      <th>date</th>\n",
       "      <th>ticker</th>\n",
       "      <th>value</th>\n",
       "    </tr>\n",
       "  </thead>\n",
       "  <tbody>\n",
       "    <tr>\n",
       "      <th>0</th>\n",
       "      <td>2025-01-01</td>\n",
       "      <td>AAA</td>\n",
       "      <td>10</td>\n",
       "    </tr>\n",
       "    <tr>\n",
       "      <th>1</th>\n",
       "      <td>2025-01-02</td>\n",
       "      <td>AAA</td>\n",
       "      <td>20</td>\n",
       "    </tr>\n",
       "    <tr>\n",
       "      <th>2</th>\n",
       "      <td>2025-01-03</td>\n",
       "      <td>AAA</td>\n",
       "      <td>30</td>\n",
       "    </tr>\n",
       "    <tr>\n",
       "      <th>3</th>\n",
       "      <td>2025-01-04</td>\n",
       "      <td>BBB</td>\n",
       "      <td>40</td>\n",
       "    </tr>\n",
       "    <tr>\n",
       "      <th>4</th>\n",
       "      <td>2025-01-05</td>\n",
       "      <td>BBB</td>\n",
       "      <td>50</td>\n",
       "    </tr>\n",
       "  </tbody>\n",
       "</table>\n",
       "</div>"
      ],
      "text/plain": [
       "        date ticker  value\n",
       "0 2025-01-01    AAA     10\n",
       "1 2025-01-02    AAA     20\n",
       "2 2025-01-03    AAA     30\n",
       "3 2025-01-04    BBB     40\n",
       "4 2025-01-05    BBB     50"
      ]
     },
     "execution_count": 11,
     "metadata": {},
     "output_type": "execute_result"
    }
   ],
   "source": [
    "# For CSV, supply schema and parse_dates so dtypes match original\n",
    "schema = {\"ticker\": \"string\", \"value\": \"int64\"}\n",
    "df_csv = read_df(csv_path, schema=schema, parse_dates=[\"date\"])\n",
    "df_pq  = read_df(pq_path)\n",
    "\n",
    "def validate_roundtrip(original, reloaded):\n",
    "    return {\n",
    "        \"same_shape\": original.shape == reloaded.shape,\n",
    "        \"same_columns\": list(original.columns) == list(reloaded.columns),\n",
    "        \"dtypes_match\": dict(original.dtypes.astype(str)) == dict(reloaded.dtypes.astype(str)),\n",
    "        \"first_rows_equal\": original.head(5).reset_index(drop=True).equals(\n",
    "            reloaded.head(5).reset_index(drop=True)\n",
    "        ),\n",
    "    }\n",
    "\n",
    "print(\"CSV check:\", validate_roundtrip(df, df_csv))\n",
    "print(\"PQ  check:\", validate_roundtrip(df, df_pq))\n",
    "\n",
    "df_csv.head()\n"
   ]
  },
  {
   "cell_type": "markdown",
   "id": "7f834522-1a73-470b-96a5-9f6b383d8bbb",
   "metadata": {},
   "source": [
    "\n",
    "## Formats Used\n",
    "- **CSV**: simple, human-readable, works everywhere but can lose type fidelity (e.g., dates load as strings).  \n",
    "- **Parquet**: efficient, columnar format that preserves dtypes and is faster/smaller. Requires either `pyarrow` or `fastparquet`.  \n",
    "\n",
    "Using both formats allows compatibility (CSV) and reproducibility + efficiency (Parquet).\n",
    "\n",
    "## How Code Reads/Writes\n",
    "- `src/io_utils.py` provides:\n",
    "  - `write_df(df, path)` → saves DataFrame to CSV or Parquet, based on file extension.  \n",
    "  - `read_df(path, schema=None, parse_dates=None)` → loads DataFrame, with options to enforce column dtypes for CSV.  \n",
    "- The notebook imports `DATA_DIR_RAW` and `DATA_DIR_PROCESSED` from `.env` so paths are environment-driven, not hardcoded.  \n",
    "- Validation in the notebook confirms both formats reload correctly, showing why Parquet is recommended for reproducible storage.\n"
   ]
  },
  {
   "cell_type": "code",
   "execution_count": null,
   "id": "cfd33e87-6815-4b23-8c71-b55f3996c621",
   "metadata": {},
   "outputs": [],
   "source": []
  }
 ],
 "metadata": {
  "kernelspec": {
   "display_name": "Python (fe-course)",
   "language": "python",
   "name": "fe-course"
  },
  "language_info": {
   "codemirror_mode": {
    "name": "ipython",
    "version": 3
   },
   "file_extension": ".py",
   "mimetype": "text/x-python",
   "name": "python",
   "nbconvert_exporter": "python",
   "pygments_lexer": "ipython3",
   "version": "3.11.13"
  }
 },
 "nbformat": 4,
 "nbformat_minor": 5
}
