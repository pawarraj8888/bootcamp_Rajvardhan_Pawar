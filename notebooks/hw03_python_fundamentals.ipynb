{
 "cells": [
  {
   "cell_type": "markdown",
   "id": "df751d4c",
   "metadata": {},
   "source": [
    "# HW03 — Python Fundamentals\n",
    "_Use NumPy, load a CSV with pandas, compute summary stats, and save outputs._"
   ]
  },
  {
   "cell_type": "code",
   "execution_count": 2,
   "id": "90c245cc",
   "metadata": {},
   "outputs": [
    {
     "name": "stdout",
     "output_type": "stream",
     "text": [
      "Repo root on sys.path: /Users/rajpawar/bootcamp_Rajvardhan_Pawar\n"
     ]
    }
   ],
   "source": [
    "# make repo root importable so `from src...` works when notebook runs from /notebooks\n",
    "import sys, pathlib\n",
    "sys.path.insert(0, str(pathlib.Path.cwd().parent))\n",
    "print('Repo root on sys.path:', sys.path[0])"
   ]
  },
  {
   "cell_type": "code",
   "execution_count": 3,
   "id": "16257545",
   "metadata": {},
   "outputs": [
    {
     "name": "stdout",
     "output_type": "stream",
     "text": [
      "API_KEY present: True\n",
      "numpy: 2.3.2 | pandas: 2.3.1\n"
     ]
    }
   ],
   "source": [
    "import numpy as np, pandas as pd, matplotlib.pyplot as plt\n",
    "from src.config import load_env, get\n",
    "load_env()\n",
    "print('API_KEY present:', get('API_KEY') is not None)\n",
    "print('numpy:', np.__version__, '| pandas:', pd.__version__)"
   ]
  },
  {
   "cell_type": "markdown",
   "id": "58f279fd",
   "metadata": {},
   "source": [
    "## Load dataset"
   ]
  },
  {
   "cell_type": "code",
   "execution_count": 13,
   "id": "185dd41a",
   "metadata": {},
   "outputs": [
    {
     "data": {
      "text/html": [
       "<div>\n",
       "<style scoped>\n",
       "    .dataframe tbody tr th:only-of-type {\n",
       "        vertical-align: middle;\n",
       "    }\n",
       "\n",
       "    .dataframe tbody tr th {\n",
       "        vertical-align: top;\n",
       "    }\n",
       "\n",
       "    .dataframe thead th {\n",
       "        text-align: right;\n",
       "    }\n",
       "</style>\n",
       "<table border=\"1\" class=\"dataframe\">\n",
       "  <thead>\n",
       "    <tr style=\"text-align: right;\">\n",
       "      <th></th>\n",
       "      <th>category</th>\n",
       "      <th>value</th>\n",
       "    </tr>\n",
       "  </thead>\n",
       "  <tbody>\n",
       "    <tr>\n",
       "      <th>0</th>\n",
       "      <td>A</td>\n",
       "      <td>10</td>\n",
       "    </tr>\n",
       "    <tr>\n",
       "      <th>1</th>\n",
       "      <td>A</td>\n",
       "      <td>12</td>\n",
       "    </tr>\n",
       "    <tr>\n",
       "      <th>2</th>\n",
       "      <td>B</td>\n",
       "      <td>20</td>\n",
       "    </tr>\n",
       "    <tr>\n",
       "      <th>3</th>\n",
       "      <td>B</td>\n",
       "      <td>22</td>\n",
       "    </tr>\n",
       "    <tr>\n",
       "      <th>4</th>\n",
       "      <td>C</td>\n",
       "      <td>30</td>\n",
       "    </tr>\n",
       "  </tbody>\n",
       "</table>\n",
       "</div>"
      ],
      "text/plain": [
       "  category  value\n",
       "0        A     10\n",
       "1        A     12\n",
       "2        B     20\n",
       "3        B     22\n",
       "4        C     30"
      ]
     },
     "execution_count": 13,
     "metadata": {},
     "output_type": "execute_result"
    }
   ],
   "source": [
    "from pathlib import Path\n",
    "import pandas as pd\n",
    "\n",
    "ROOT = Path.cwd().parent          # repo root\n",
    "DATA_PATH = ROOT / \"data\" / \"starter_data.csv\"\n",
    "\n",
    "assert DATA_PATH.exists(), f\"Missing {DATA_PATH}\"\n",
    "df = pd.read_csv(DATA_PATH)\n",
    "df.head()\n"
   ]
  },
  {
   "cell_type": "code",
   "execution_count": 15,
   "id": "5ead6ce7",
   "metadata": {},
   "outputs": [
    {
     "name": "stdout",
     "output_type": "stream",
     "text": [
      "<class 'pandas.core.frame.DataFrame'>\n",
      "RangeIndex: 6 entries, 0 to 5\n",
      "Data columns (total 2 columns):\n",
      " #   Column    Non-Null Count  Dtype \n",
      "---  ------    --------------  ----- \n",
      " 0   category  6 non-null      object\n",
      " 1   value     6 non-null      int64 \n",
      "dtypes: int64(1), object(1)\n",
      "memory usage: 228.0+ bytes\n"
     ]
    }
   ],
   "source": [
    "df.info()"
   ]
  },
  {
   "cell_type": "markdown",
   "id": "8cace758",
   "metadata": {},
   "source": [
    "## Summary statistics → save to data/processed/summary.csv"
   ]
  },
  {
   "cell_type": "code",
   "execution_count": 17,
   "id": "b1db7c1f",
   "metadata": {},
   "outputs": [
    {
     "data": {
      "text/html": [
       "<div>\n",
       "<style scoped>\n",
       "    .dataframe tbody tr th:only-of-type {\n",
       "        vertical-align: middle;\n",
       "    }\n",
       "\n",
       "    .dataframe tbody tr th {\n",
       "        vertical-align: top;\n",
       "    }\n",
       "\n",
       "    .dataframe thead th {\n",
       "        text-align: right;\n",
       "    }\n",
       "</style>\n",
       "<table border=\"1\" class=\"dataframe\">\n",
       "  <thead>\n",
       "    <tr style=\"text-align: right;\">\n",
       "      <th></th>\n",
       "      <th>category</th>\n",
       "      <th>value</th>\n",
       "    </tr>\n",
       "  </thead>\n",
       "  <tbody>\n",
       "    <tr>\n",
       "      <th>count</th>\n",
       "      <td>6</td>\n",
       "      <td>6.000000</td>\n",
       "    </tr>\n",
       "    <tr>\n",
       "      <th>unique</th>\n",
       "      <td>3</td>\n",
       "      <td>NaN</td>\n",
       "    </tr>\n",
       "    <tr>\n",
       "      <th>top</th>\n",
       "      <td>A</td>\n",
       "      <td>NaN</td>\n",
       "    </tr>\n",
       "    <tr>\n",
       "      <th>freq</th>\n",
       "      <td>2</td>\n",
       "      <td>NaN</td>\n",
       "    </tr>\n",
       "    <tr>\n",
       "      <th>mean</th>\n",
       "      <td>NaN</td>\n",
       "      <td>20.333333</td>\n",
       "    </tr>\n",
       "  </tbody>\n",
       "</table>\n",
       "</div>"
      ],
      "text/plain": [
       "       category      value\n",
       "count         6   6.000000\n",
       "unique        3        NaN\n",
       "top           A        NaN\n",
       "freq          2        NaN\n",
       "mean        NaN  20.333333"
      ]
     },
     "execution_count": 17,
     "metadata": {},
     "output_type": "execute_result"
    }
   ],
   "source": [
    "from src.utils import get_summary_stats, save_summary\n",
    "os.makedirs('data/processed', exist_ok=True)\n",
    "summary = get_summary_stats(df)\n",
    "save_summary(summary, 'data/processed/summary.csv')\n",
    "summary.head()"
   ]
  },
  {
   "cell_type": "markdown",
   "id": "7b00911e",
   "metadata": {},
   "source": [
    "## Simple groupby (auto-picks one categorical & one numeric column)"
   ]
  },
  {
   "cell_type": "code",
   "execution_count": 20,
   "id": "c7149724",
   "metadata": {},
   "outputs": [
    {
     "data": {
      "text/plain": [
       "category\n",
       "A    11.0\n",
       "B    21.0\n",
       "C    29.0\n",
       "Name: value, dtype: float64"
      ]
     },
     "metadata": {},
     "output_type": "display_data"
    }
   ],
   "source": [
    "num_cols = [c for c in df.columns if pd.api.types.is_numeric_dtype(df[c])]\n",
    "cat_cols = [c for c in df.columns if pd.api.types.is_object_dtype(df[c])]\n",
    "if cat_cols and num_cols:\n",
    "    display(df.groupby(cat_cols[0])[num_cols[0]].mean())\n",
    "else:\n",
    "    print('No obvious categorical/numeric pair for groupby; skipping demo.')"
   ]
  },
  {
   "cell_type": "markdown",
   "id": "f2f38012",
   "metadata": {},
   "source": [
    "## Save a histogram of the first numeric column (if any)"
   ]
  },
  {
   "cell_type": "code",
   "execution_count": 23,
   "id": "faa323af",
   "metadata": {},
   "outputs": [
    {
     "name": "stdout",
     "output_type": "stream",
     "text": [
      "Saved histogram to data/processed/hist_value.png\n"
     ]
    }
   ],
   "source": [
    "if num_cols:\n",
    "    col = num_cols[0]\n",
    "    ax = df[col].dropna().plot(kind='hist', bins=30)\n",
    "    fig = ax.get_figure()\n",
    "    out = f'data/processed/hist_{col}.png'\n",
    "    fig.savefig(out, bbox_inches='tight')\n",
    "    plt.close(fig)\n",
    "    print('Saved histogram to', out)\n",
    "else:\n",
    "    print('No numeric column to plot.')"
   ]
  },
  {
   "cell_type": "markdown",
   "id": "8d7d2fd9",
   "metadata": {},
   "source": [
    "## NumPy vectorization speed demo"
   ]
  },
  {
   "cell_type": "code",
   "execution_count": 26,
   "id": "73cda231",
   "metadata": {},
   "outputs": [
    {
     "name": "stdout",
     "output_type": "stream",
     "text": [
      "Vectorized: 0.016s  |  Loop: 0.228s  |  speedup ~18.0x\n"
     ]
    }
   ],
   "source": [
    "import time\n",
    "n = 5_000_000\n",
    "arr = np.arange(n, dtype=np.float64)\n",
    "t0 = time.time(); out_vec = arr * 2.0 + 1.0; t1 = time.time()\n",
    "lst = list(range(n))\n",
    "s0 = time.time(); out_loop = [x*2.0 + 1.0 for x in lst]; s1 = time.time()\n",
    "print(f'Vectorized: {(t1-t0):.3f}s  |  Loop: {(s1-s0):.3f}s  |  speedup ~{(s1-t0)/(t1-t0) if (t1-t0)>0 else float(\"inf\"):.1f}x')"
   ]
  },
  {
   "cell_type": "markdown",
   "id": "7f41172f",
   "metadata": {},
   "source": [
    "## Done"
   ]
  },
  {
   "cell_type": "code",
   "execution_count": 29,
   "id": "b15d1c59",
   "metadata": {},
   "outputs": [
    {
     "name": "stdout",
     "output_type": "stream",
     "text": [
      "Wrote: data/processed/summary.csv → True\n"
     ]
    }
   ],
   "source": [
    "import os\n",
    "print('Wrote: data/processed/summary.csv →', os.path.exists('data/processed/summary.csv'))"
   ]
  },
  {
   "cell_type": "code",
   "execution_count": null,
   "id": "b70b86fe-e7d2-4b8e-9365-b33484388264",
   "metadata": {},
   "outputs": [],
   "source": []
  },
  {
   "cell_type": "code",
   "execution_count": null,
   "id": "a1051024-1515-474f-a93a-83d453fa30bb",
   "metadata": {},
   "outputs": [],
   "source": []
  },
  {
   "cell_type": "code",
   "execution_count": null,
   "id": "1f4de8e6-a6d0-4ba5-b8a2-0c5c15943221",
   "metadata": {},
   "outputs": [],
   "source": []
  }
 ],
 "metadata": {
  "kernelspec": {
   "display_name": "Python (fe-course)",
   "language": "python",
   "name": "fe-course"
  },
  "language_info": {
   "codemirror_mode": {
    "name": "ipython",
    "version": 3
   },
   "file_extension": ".py",
   "mimetype": "text/x-python",
   "name": "python",
   "nbconvert_exporter": "python",
   "pygments_lexer": "ipython3",
   "version": "3.11.13"
  }
 },
 "nbformat": 4,
 "nbformat_minor": 5
}
