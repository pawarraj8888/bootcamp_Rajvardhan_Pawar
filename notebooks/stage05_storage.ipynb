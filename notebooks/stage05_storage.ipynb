{
 "cells": [
  {
   "cell_type": "markdown",
   "id": "b8c4fd23-d750-4466-a694-6753da34b31b",
   "metadata": {},
   "source": [
    "## imports + env paths"
   ]
  },
  {
   "cell_type": "code",
   "execution_count": 9,
   "id": "43fe09be-5069-41da-9270-2bada67fa971",
   "metadata": {},
   "outputs": [
    {
     "name": "stdout",
     "output_type": "stream",
     "text": [
      "Repo root: /Users/rajpawar/bootcamp_Rajvardhan_Pawar\n"
     ]
    }
   ],
   "source": [
    "# make repo-root modules importable from inside /notebooks\n",
    "from pathlib import Path\n",
    "import sys\n",
    "\n",
    "ROOT = Path.cwd().parent if Path.cwd().name == \"notebooks\" else Path.cwd()\n",
    "if str(ROOT) not in sys.path:\n",
    "    sys.path.insert(0, str(ROOT))\n",
    "\n",
    "print(\"Repo root:\", ROOT)  # sanity check\n"
   ]
  },
  {
   "cell_type": "code",
   "execution_count": 11,
   "id": "43584a33-1f18-4a26-9f84-4e4c34a7e417",
   "metadata": {},
   "outputs": [
    {
     "data": {
      "text/plain": [
       "(PosixPath('data/raw'), PosixPath('data/processed'), '20250818-1609')"
      ]
     },
     "execution_count": 11,
     "metadata": {},
     "output_type": "execute_result"
    }
   ],
   "source": [
    "from pathlib import Path\n",
    "import os, pandas as pd, numpy as np\n",
    "from datetime import datetime\n",
    "\n",
    "# Tiny env helper (works with your earlier pattern)\n",
    "from src.config import load_env, get\n",
    "load_env()\n",
    "\n",
    "RAW_DIR = Path(get(\"DATA_DIR_RAW\") or \"data/raw\")\n",
    "PROC_DIR = Path(get(\"DATA_DIR_PROCESSED\") or \"data/processed\")\n",
    "RAW_DIR.mkdir(parents=True, exist_ok=True)\n",
    "PROC_DIR.mkdir(parents=True, exist_ok=True)\n",
    "\n",
    "TS = datetime.now().strftime(\"%Y%m%d-%H%M\")\n",
    "RAW_DIR, PROC_DIR, TS\n"
   ]
  },
  {
   "cell_type": "code",
   "execution_count": 13,
   "id": "cafbf75c-dd28-4aa5-bde1-aea5c747cba3",
   "metadata": {},
   "outputs": [
    {
     "data": {
      "text/plain": [
       "(   level_0  index       date       close        high         low        open  \\\n",
       " 0        0      0 2024-08-19  224.843582  224.943125  222.006778  224.674371   \n",
       " 1        1      1 2024-08-20  225.460693  226.117640  224.405606  224.724131   \n",
       " 2        2      2 2024-08-21  225.351212  226.923894  224.007474  225.470666   \n",
       " 3        3      3 2024-08-22  223.489868  227.282216  222.862782  226.734761   \n",
       " 4        4      4 2024-08-23  225.789154  227.162766  223.290787  224.614628   \n",
       " \n",
       "      volume  \n",
       " 0  40687800  \n",
       " 1  30299000  \n",
       " 2  34765500  \n",
       " 3  43695300  \n",
       " 4  38677300  ,\n",
       " level_0             int64\n",
       " index               int64\n",
       " date       datetime64[ns]\n",
       " close             float64\n",
       " high              float64\n",
       " low               float64\n",
       " open              float64\n",
       " volume              int64\n",
       " dtype: object)"
      ]
     },
     "execution_count": 13,
     "metadata": {},
     "output_type": "execute_result"
    }
   ],
   "source": [
    "aapl_csv = next((p for p in RAW_DIR.glob(\"AAPL*.csv\")), None)\n",
    "if aapl_csv and aapl_csv.exists():\n",
    "    df = pd.read_csv(aapl_csv, parse_dates=[\"date\"], low_memory=False)\n",
    "else:\n",
    "    # small demo if AAPL isn’t present\n",
    "    df = pd.DataFrame({\n",
    "        \"date\": pd.date_range(\"2024-01-01\", periods=5, freq=\"D\"),\n",
    "        \"value\": np.arange(5, dtype=float),\n",
    "        \"flag\": [\"A\",\"B\",\"A\",\"B\",\"A\"]\n",
    "    })\n",
    "df.head(), df.dtypes\n"
   ]
  },
  {
   "cell_type": "code",
   "execution_count": 15,
   "id": "7afe8e5e-b34c-4204-b12a-e0e3e1168b44",
   "metadata": {},
   "outputs": [
    {
     "data": {
      "text/plain": [
       "(PosixPath('data/raw/sample_20250818-1609.csv'),\n",
       " PosixPath('data/processed/sample_20250818-1609.parquet'))"
      ]
     },
     "execution_count": 15,
     "metadata": {},
     "output_type": "execute_result"
    }
   ],
   "source": [
    "csv_path  = RAW_DIR  / f\"sample_{TS}.csv\"\n",
    "pq_path   = PROC_DIR / f\"sample_{TS}.parquet\"\n",
    "\n",
    "df.to_csv(csv_path, index=False)\n",
    "df.to_parquet(pq_path, index=False)        # uses pyarrow if installed\n",
    "\n",
    "csv_path, pq_path\n"
   ]
  },
  {
   "cell_type": "code",
   "execution_count": 17,
   "id": "ae6e47da-06cd-4d21-aeb1-f8a2f8b12d50",
   "metadata": {},
   "outputs": [
    {
     "data": {
      "text/plain": [
       "{'shape_csv': True,\n",
       " 'shape_pq': True,\n",
       " 'dtypes_csv': {'level_0': True, 'index': True, 'date': True},\n",
       " 'dtypes_pq': {'level_0': True, 'index': True, 'date': True}}"
      ]
     },
     "execution_count": 17,
     "metadata": {},
     "output_type": "execute_result"
    }
   ],
   "source": [
    "df_csv = pd.read_csv(csv_path, parse_dates=[\"date\"], low_memory=False)\n",
    "\n",
    "# For Parquet, pandas preserves dtypes well; just load.\n",
    "df_pq  = pd.read_parquet(pq_path)\n",
    "\n",
    "def validate_reload(original: pd.DataFrame, csv_df: pd.DataFrame, pq_df: pd.DataFrame):\n",
    "    out = {}\n",
    "\n",
    "    out[\"shape_csv\"] = (original.shape == csv_df.shape)\n",
    "    out[\"shape_pq\"]  = (original.shape == pq_df.shape)\n",
    "\n",
    "    # pick critical columns (adapt to your DF)\n",
    "    critical = [c for c in original.columns[:3]]  # first 3 as example\n",
    "    out[\"dtypes_csv\"] = {c: (original[c].dtype == csv_df[c].dtype) for c in critical if c in csv_df}\n",
    "    out[\"dtypes_pq\"]  = {c: (original[c].dtype == pq_df[c].dtype) for c in critical if c in pq_df}\n",
    "\n",
    "    return out\n",
    "\n",
    "validate_reload(df, df_csv, df_pq)\n"
   ]
  },
  {
   "cell_type": "code",
   "execution_count": null,
   "id": "4f0ac181-e63b-4ad1-877f-0b36eac5e78d",
   "metadata": {},
   "outputs": [],
   "source": []
  },
  {
   "cell_type": "code",
   "execution_count": 20,
   "id": "cce793e5-c331-41b9-a3a8-68949cbbd161",
   "metadata": {},
   "outputs": [
    {
     "data": {
      "text/plain": [
       "{'shape_csv': True,\n",
       " 'shape_pq': True,\n",
       " 'dtypes_csv': {'level_0': True, 'index': True, 'date': False},\n",
       " 'dtypes_pq': {'level_0': True, 'index': True, 'date': True}}"
      ]
     },
     "execution_count": 20,
     "metadata": {},
     "output_type": "execute_result"
    }
   ],
   "source": [
    "from src.io_utils import write_df, read_df\n",
    "\n",
    "csv2 = RAW_DIR  / f\"sample_util_{TS}.csv\"\n",
    "pq2  = PROC_DIR / f\"sample_util_{TS}.parquet\"\n",
    "\n",
    "write_df(df, csv2)\n",
    "write_df(df, pq2)\n",
    "\n",
    "df_csv2 = read_df(csv2)\n",
    "df_pq2  = read_df(pq2)\n",
    "validate_reload(df, df_csv2, df_pq2)\n"
   ]
  },
  {
   "cell_type": "code",
   "execution_count": 22,
   "id": "69a1c781-4bc8-4f03-86db-f98a4d40ee53",
   "metadata": {},
   "outputs": [],
   "source": [
    "from src.config import load_env, get\n",
    "load_env()\n",
    "RAW_DIR  = Path(get(\"DATA_DIR_RAW\"))\n",
    "PROC_DIR = Path(get(\"DATA_DIR_PROCESSED\"))\n"
   ]
  },
  {
   "cell_type": "code",
   "execution_count": null,
   "id": "062d7449-4828-47f4-8671-c1678e7d5741",
   "metadata": {},
   "outputs": [],
   "source": []
  }
 ],
 "metadata": {
  "kernelspec": {
   "display_name": "Python 3 (ipykernel)",
   "language": "python",
   "name": "python3"
  },
  "language_info": {
   "codemirror_mode": {
    "name": "ipython",
    "version": 3
   },
   "file_extension": ".py",
   "mimetype": "text/x-python",
   "name": "python",
   "nbconvert_exporter": "python",
   "pygments_lexer": "ipython3",
   "version": "3.12.4"
  }
 },
 "nbformat": 4,
 "nbformat_minor": 5
}
